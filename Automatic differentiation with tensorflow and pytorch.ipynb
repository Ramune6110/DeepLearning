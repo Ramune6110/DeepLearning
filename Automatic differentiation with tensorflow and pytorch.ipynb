{
 "cells": [
  {
   "cell_type": "code",
   "execution_count": 2,
   "metadata": {},
   "outputs": [
    {
     "name": "stdout",
     "output_type": "stream",
     "text": [
      "0.47407698418010663\n",
      "[-0.37754067 -0.37754067 -0.37754067]\n"
     ]
    }
   ],
   "source": [
    "# autogradによる自動微分\n",
    "import autograd\n",
    "import autograd.numpy as np\n",
    "\n",
    "def loss(w, x):\n",
    "    return -np.log(1.0 / (1.0 + np.exp(-np.dot(w, x))))\n",
    "\n",
    "x = np.array([1.0, 1.0, 1.0])\n",
    "w = np.array([1.0, 1.0, -1.5])\n",
    "\n",
    "grad_loss = autograd.grad(loss)\n",
    "print(loss(w, x))\n",
    "print(grad_loss(w, x))"
   ]
  },
  {
   "cell_type": "code",
   "execution_count": 9,
   "metadata": {},
   "outputs": [
    {
     "name": "stdout",
     "output_type": "stream",
     "text": [
      "0.47407696\n",
      "tf.Tensor([-0.37754062 -0.37754062 -0.37754062], shape=(3,), dtype=float32)\n"
     ]
    }
   ],
   "source": [
    "# tensorflowによる自動微分\n",
    "import tensorflow as tf\n",
    "\n",
    "dtype = tf.float32\n",
    "\n",
    "x = tf.constant([1, 1, 1], dtype = dtype, name = 'x')\n",
    "w = tf.Variable([1.0, 1.0, -1.5], dtype = dtype, name = 'w')\n",
    "\n",
    "with tf.GradientTape() as tape:\n",
    "    loss = -tf.math.log(tf.math.sigmoid(tf.tensordot(x, w, 1)))\n",
    "print(loss.numpy())\n",
    "print(tape.gradient(loss, w))"
   ]
  },
  {
   "cell_type": "code",
   "execution_count": 16,
   "metadata": {},
   "outputs": [
    {
     "name": "stdout",
     "output_type": "stream",
     "text": [
      "0.4740769565105438\n",
      "tensor([-0.3775, -0.3775, -0.3775])\n"
     ]
    }
   ],
   "source": [
    "# pytorchによる自動微分\n",
    "import torch\n",
    "\n",
    "dtype = torch.float\n",
    "\n",
    "x = torch.tensor([1, 1, 1], dtype = dtype)\n",
    "w = torch.tensor([1.0, 1.0, -1.5], dtype = dtype, requires_grad = True)\n",
    "\n",
    "loss = -torch.dot(x, w).sigmoid().log()\n",
    "loss.backward()\n",
    "print(loss.item())\n",
    "print(w.grad)"
   ]
  },
  {
   "cell_type": "code",
   "execution_count": null,
   "metadata": {},
   "outputs": [],
   "source": []
  }
 ],
 "metadata": {
  "kernelspec": {
   "display_name": "Python 3",
   "language": "python",
   "name": "python3"
  },
  "language_info": {
   "codemirror_mode": {
    "name": "ipython",
    "version": 3
   },
   "file_extension": ".py",
   "mimetype": "text/x-python",
   "name": "python",
   "nbconvert_exporter": "python",
   "pygments_lexer": "ipython3",
   "version": "3.7.7"
  }
 },
 "nbformat": 4,
 "nbformat_minor": 4
}
