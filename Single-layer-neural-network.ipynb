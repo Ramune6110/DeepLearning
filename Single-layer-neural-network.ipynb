{
 "cells": [
  {
   "cell_type": "code",
   "execution_count": 1,
   "metadata": {},
   "outputs": [
    {
     "data": {
      "text/plain": [
       "array([1., 1., 0.])"
      ]
     },
     "metadata": {},
     "output_type": "display_data"
    },
    {
     "data": {
      "text/plain": [
       "array([0., 1., 1., 1.])"
      ]
     },
     "metadata": {},
     "output_type": "display_data"
    }
   ],
   "source": [
    "# Activation function:Step function\n",
    "import numpy as np\n",
    "\n",
    "x = np.array([[0, 0, 1], [0, 1, 1], [1, 0, 1], [1, 1, 1]])\n",
    "y = np.array([0, 1, 1, 1])\n",
    "w = np.array([0.0, 0.0, 0.0])\n",
    "\n",
    "eta = 1.0\n",
    "\n",
    "for t in range(100):\n",
    "    for i in range(len(y)):\n",
    "        y_pred = np.heaviside(np.dot(x[i], w), 0)\n",
    "        w += (y[i] - y_pred) * eta * x[i]\n",
    "        \n",
    "display(w)\n",
    "display(np.heaviside(np.dot(x, w), 0))"
   ]
  },
  {
   "cell_type": "code",
   "execution_count": 3,
   "metadata": {},
   "outputs": [
    {
     "data": {
      "text/plain": [
       "array([ 6.80884081,  6.80884081, -2.92825318])"
      ]
     },
     "metadata": {},
     "output_type": "display_data"
    },
    {
     "data": {
      "text/plain": [
       "array([0., 1., 1., 1.])"
      ]
     },
     "metadata": {},
     "output_type": "display_data"
    }
   ],
   "source": [
    "# SGD\n",
    "# Activation function:Sigmoid function\n",
    "import numpy as np\n",
    "\n",
    "def sigmoid(v):\n",
    "    return 1.0 / (1 + np.exp(-v))\n",
    "\n",
    "x = np.array([[0, 0, 1], [0, 1, 1], [1, 0, 1], [1, 1, 1]])\n",
    "y = np.array([0, 1, 1, 1])\n",
    "w = np.array([0.0, 0.0, 0.0])\n",
    "\n",
    "eta = 1.0\n",
    "\n",
    "for t in range(100):\n",
    "        y_pred = sigmoid(np.dot(x, w))\n",
    "        w += eta * np.dot((y - y_pred), x)\n",
    "        \n",
    "display(w)\n",
    "display(np.heaviside(np.dot(x, w), 0))"
   ]
  },
  {
   "cell_type": "code",
   "execution_count": null,
   "metadata": {},
   "outputs": [],
   "source": []
  }
 ],
 "metadata": {
  "kernelspec": {
   "display_name": "Python 3",
   "language": "python",
   "name": "python3"
  },
  "language_info": {
   "codemirror_mode": {
    "name": "ipython",
    "version": 3
   },
   "file_extension": ".py",
   "mimetype": "text/x-python",
   "name": "python",
   "nbconvert_exporter": "python",
   "pygments_lexer": "ipython3",
   "version": "3.7.6"
  }
 },
 "nbformat": 4,
 "nbformat_minor": 4
}
